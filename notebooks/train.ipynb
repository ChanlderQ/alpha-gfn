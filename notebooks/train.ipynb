{
 "cells": [
  {
   "cell_type": "code",
   "execution_count": 14,
   "metadata": {},
   "outputs": [],
   "source": [
    "import numpy as np\n",
    "import pandas as pd\n",
    "import torch\n",
    "import matplotlib.pyplot as plt\n",
    "import random\n",
    "\n",
    "from torch.distributions.categorical import Categorical\n",
    "from typing import List\n",
    "from tqdm import tqdm\n",
    "\n",
    "import sys\n",
    "sys.path.insert(1, '../src')\n",
    "from config import *\n",
    "from alphaclass import AlphaGFN\n",
    "from models import TBModel\n",
    "from reward import compute_log_reward\n",
    "from loss import trajectory_balance_loss"
   ]
  },
  {
   "cell_type": "code",
   "execution_count": 15,
   "metadata": {},
   "outputs": [],
   "source": [
    "# Utils\n",
    "def expr_sequence_to_string(expr: List[str]) -> str:\n",
    "    string = ''\n",
    "    stack = []\n",
    "    for a in expr:\n",
    "        if a in ['BEG', 'SEP']:\n",
    "            continue\n",
    "        elif a in FEATURES:\n",
    "            stack.append(a)\n",
    "        elif a in UNARY:\n",
    "            operand = stack.pop()\n",
    "            stack.append(a + '(' + operand + ')')\n",
    "        elif a in BINARY:\n",
    "            operand_2 = stack.pop()\n",
    "            operand_1 = stack.pop()\n",
    "            stack.append(a + '(' + operand_1 + ',' + operand_2 + ')')\n",
    "        else:\n",
    "            ValueError\n",
    "    return stack[0]"
   ]
  },
  {
   "cell_type": "markdown",
   "metadata": {},
   "source": [
    "# Training Loop"
   ]
  },
  {
   "cell_type": "code",
   "execution_count": 17,
   "metadata": {},
   "outputs": [
    {
     "name": "stderr",
     "output_type": "stream",
     "text": [
      "100%|█████████████████████████████████████████████████████████████| 100/100 [03:34<00:00,  2.15s/it]\n"
     ]
    }
   ],
   "source": [
    "# Reproducibility.\n",
    "seed = 2024\n",
    "torch.manual_seed(seed)\n",
    "random.seed(seed)\n",
    "np.random.seed(seed)\n",
    "torch.manual_seed(seed)\n",
    "# torch.backends.cudnn.deterministic = True\n",
    "# torch.backends.cudnn.benchmark = False\n",
    "\n",
    "# Instantiate model and optimizer\n",
    "model = TBModel(num_hid_1 = 128, num_hid_2 = 128)\n",
    "opt = torch.optim.Adam(model.parameters(),  learning_rate)\n",
    "\n",
    "# Accumulate losses here and take a gradient step every `update_freq` episode (at the end of each trajectory).\n",
    "losses, sampled_ics, sampled_expressions, logZs = [], [], [], []\n",
    "minibatch_loss = torch.tensor([0], dtype=torch.float32)\n",
    "update_freq = 20\n",
    "\n",
    "n_episodes = 100\n",
    "\n",
    "alpha = AlphaGFN()\n",
    "\n",
    "for episode in tqdm(range(n_episodes), ncols=100):\n",
    "    \n",
    "    alpha.reset()  # Each episode starts with an empty state and operand stack.\n",
    "    P_F_s, P_B_s = model(alpha.get_tensor_state().unsqueeze(0))  # Forward and backward policy\n",
    "    total_log_P_F, total_log_P_B = 0, 0\n",
    "\n",
    "    for t in range(MAX_EXPR_LENGTH):  # All trajectories are at most length MAX_EXPR_LENGTH.\n",
    "\n",
    "        # Here we mask the relevant forward actions.\n",
    "        mask = alpha.get_forward_masks()\n",
    "        P_F_s = torch.where(mask, P_F_s, torch.tensor(-100, dtype=torch.float32))  # Removes invalid forward actions.\n",
    "\n",
    "        # Here P_F is logits, so we use Categorical to compute a softmax.\n",
    "        categorical = Categorical(logits=P_F_s)\n",
    "        action = categorical.sample()  # Sample the next action.\n",
    "        alpha.step(action)  # Update to new state.\n",
    "        total_log_P_F += categorical.log_prob(action)  # Accumulate the log_P_F sum.\n",
    "\n",
    "        # We recompute P_F and P_B for the new state.\n",
    "        P_F_s, P_B_s = model(alpha.get_tensor_state().unsqueeze(0))\n",
    "        mask = alpha.get_backward_masks()\n",
    "        P_B_s = torch.where(mask, P_B_s, torch.tensor(-100, dtype=torch.float32))  # Removes invalid backward actions.\n",
    "\n",
    "        # Accumulate P_B, going backwards from new state. \n",
    "        total_log_P_B += Categorical(logits=P_B_s).log_prob(action)\n",
    "        \n",
    "        if alpha._action_to_token(action) == \"SEP\":  # End of trajectory.\n",
    "            break\n",
    "\n",
    "    if alpha._action_to_token(action) == \"SEP\":\n",
    "        ic, log_reward = compute_log_reward(alpha.stack[0])\n",
    "        if not np.isnan(log_reward):\n",
    "            minibatch_loss += trajectory_balance_loss(\n",
    "                model.logZ,\n",
    "                total_log_P_F,\n",
    "                total_log_P_B,\n",
    "                log_reward = torch.tensor(log_reward, dtype=torch.float32),\n",
    "            )\n",
    "\n",
    "            sampled_expressions.append([alpha._action_to_token(action) for action in alpha.state])\n",
    "            sampled_ics.append(ic) \n",
    "        \n",
    "    if episode > 0 and episode % update_freq == 0 and minibatch_loss:\n",
    "        losses.append(minibatch_loss.item())\n",
    "        logZs.append(model.logZ.item())\n",
    "        minibatch_loss.backward()\n",
    "        opt.step()\n",
    "        opt.zero_grad()\n",
    "        minibatch_loss = 0\n"
   ]
  },
  {
   "cell_type": "markdown",
   "metadata": {},
   "source": [
    "# Examine training results"
   ]
  },
  {
   "cell_type": "markdown",
   "metadata": {},
   "source": [
    "## Loss curve and estimated partition function over time"
   ]
  },
  {
   "cell_type": "code",
   "execution_count": 18,
   "metadata": {},
   "outputs": [
    {
     "data": {
      "text/plain": [
       "Text(0.5, 0.98, 'Loss and Estimated Partition Function for the Trajectory Balance Model')"
      ]
     },
     "execution_count": 18,
     "metadata": {},
     "output_type": "execute_result"
    },
    {
     "data": {
      "image/png": "[encoded data removed]",
      "text/plain": [
       "<Figure size 720x432 with 2 Axes>"
      ]
     },
     "metadata": {
      "needs_background": "light"
     },
     "output_type": "display_data"
    }
   ],
   "source": [
    "fig, ax = plt.subplots(2, 1, figsize=(10, 6))\n",
    "plt.sca(ax[0])\n",
    "plt.plot(losses, color=\"black\")\n",
    "plt.yscale('log')\n",
    "plt.ylabel('Loss')\n",
    "plt.sca(ax[1])\n",
    "plt.plot(np.exp(logZs), color=\"black\")\n",
    "plt.ylabel('Estimated Z');\n",
    "plt.xlabel('Step')\n",
    "plt.suptitle(\"Loss and Estimated Partition Function for the Trajectory Balance Model\")"
   ]
  },
  {
   "cell_type": "markdown",
   "metadata": {},
   "source": [
    "## Example expressions and their IC"
   ]
  },
  {
   "cell_type": "code",
   "execution_count": 19,
   "metadata": {},
   "outputs": [
    {
     "data": {
      "text/html": [
       "<div>\n",
       "<style scoped>\n",
       "    .dataframe tbody tr th:only-of-type {\n",
       "        vertical-align: middle;\n",
       "    }\n",
       "\n",
       "    .dataframe tbody tr th {\n",
       "        vertical-align: top;\n",
       "    }\n",
       "\n",
       "    .dataframe thead th {\n",
       "        text-align: right;\n",
       "    }\n",
       "</style>\n",
       "<table border=\"1\" class=\"dataframe tex2jax_ignore\">\n",
       "  <thead>\n",
       "    <tr style=\"text-align: right;\">\n",
       "      <th></th>\n",
       "      <th>expr</th>\n",
       "      <th>ic</th>\n",
       "    </tr>\n",
       "  </thead>\n",
       "  <tbody>\n",
       "    <tr>\n",
       "      <th>45</th>\n",
       "      <td>ops_subtract(ops_divide(ops_add(ops_subtract(ops_abs(ops_multiply($open,ops_roll_std($close))),$volume),ops_roll_std($high)),ops_roll_std($close)),$open)</td>\n",
       "      <td>-0.015941</td>\n",
       "    </tr>\n",
       "    <tr>\n",
       "      <th>20</th>\n",
       "      <td>ops_add(ops_subtract(ops_roll_corr(ops_add(ops_roll_std(ops_abs(ops_add(ops_roll_std(ops_add($close,ops_abs($high))),$open))),ops_abs($high)),ops_roll_std($low)),$volume),$close)</td>\n",
       "      <td>-0.015171</td>\n",
       "    </tr>\n",
       "    <tr>\n",
       "      <th>39</th>\n",
       "      <td>ops_subtract(ops_add($open,$low),$volume)</td>\n",
       "      <td>-0.015163</td>\n",
       "    </tr>\n",
       "    <tr>\n",
       "      <th>46</th>\n",
       "      <td>ops_subtract(ops_subtract($high,$volume),ops_log(ops_abs($close)))</td>\n",
       "      <td>-0.015160</td>\n",
       "    </tr>\n",
       "    <tr>\n",
       "      <th>31</th>\n",
       "      <td>ops_subtract($low,$volume)</td>\n",
       "      <td>-0.015160</td>\n",
       "    </tr>\n",
       "    <tr>\n",
       "      <th>...</th>\n",
       "      <td>...</td>\n",
       "      <td>...</td>\n",
       "    </tr>\n",
       "    <tr>\n",
       "      <th>53</th>\n",
       "      <td>ops_add($volume,$close)</td>\n",
       "      <td>0.015160</td>\n",
       "    </tr>\n",
       "    <tr>\n",
       "      <th>71</th>\n",
       "      <td>$volume</td>\n",
       "      <td>0.015162</td>\n",
       "    </tr>\n",
       "    <tr>\n",
       "      <th>16</th>\n",
       "      <td>ops_abs($volume)</td>\n",
       "      <td>0.015162</td>\n",
       "    </tr>\n",
       "    <tr>\n",
       "      <th>27</th>\n",
       "      <td>ops_subtract(ops_add($open,$volume),ops_roll_std($high))</td>\n",
       "      <td>0.015249</td>\n",
       "    </tr>\n",
       "    <tr>\n",
       "      <th>56</th>\n",
       "      <td>ops_divide(ops_add($volume,$open),$open)</td>\n",
       "      <td>0.015981</td>\n",
       "    </tr>\n",
       "  </tbody>\n",
       "</table>\n",
       "<p>79 rows × 2 columns</p>\n",
       "</div>"
      ],
      "text/plain": [
       "                                                                                                                                                                                  expr  \\\n",
       "45                           ops_subtract(ops_divide(ops_add(ops_subtract(ops_abs(ops_multiply($open,ops_roll_std($close))),$volume),ops_roll_std($high)),ops_roll_std($close)),$open)   \n",
       "20  ops_add(ops_subtract(ops_roll_corr(ops_add(ops_roll_std(ops_abs(ops_add(ops_roll_std(ops_add($close,ops_abs($high))),$open))),ops_abs($high)),ops_roll_std($low)),$volume),$close)   \n",
       "39                                                                                                                                           ops_subtract(ops_add($open,$low),$volume)   \n",
       "46                                                                                                                  ops_subtract(ops_subtract($high,$volume),ops_log(ops_abs($close)))   \n",
       "31                                                                                                                                                          ops_subtract($low,$volume)   \n",
       "..                                                                                                                                                                                 ...   \n",
       "53                                                                                                                                                             ops_add($volume,$close)   \n",
       "71                                                                                                                                                                             $volume   \n",
       "16                                                                                                                                                                    ops_abs($volume)   \n",
       "27                                                                                                                            ops_subtract(ops_add($open,$volume),ops_roll_std($high))   \n",
       "56                                                                                                                                            ops_divide(ops_add($volume,$open),$open)   \n",
       "\n",
       "          ic  \n",
       "45 -0.015941  \n",
       "20 -0.015171  \n",
       "39 -0.015163  \n",
       "46 -0.015160  \n",
       "31 -0.015160  \n",
       "..       ...  \n",
       "53  0.015160  \n",
       "71  0.015162  \n",
       "16  0.015162  \n",
       "27  0.015249  \n",
       "56  0.015981  \n",
       "\n",
       "[79 rows x 2 columns]"
      ]
     },
     "execution_count": 19,
     "metadata": {},
     "output_type": "execute_result"
    }
   ],
   "source": [
    "pd.set_option('display.max_colwidth', 200)\n",
    "pd.set_option('display.html.use_mathjax', False)\n",
    "res = pd.DataFrame(\n",
    "    {'expr': [expr_sequence_to_string(ex) for ex in sampled_expressions], 'ic': sampled_ics}\n",
    ").sort_values(by='ic')\n",
    "res"
   ]
  },
  {
   "cell_type": "code",
   "execution_count": 20,
   "metadata": {},
   "outputs": [
    {
     "data": {
      "image/png": "[encoded data removed]",
      "text/plain": [
       "<Figure size 432x288 with 1 Axes>"
      ]
     },
     "metadata": {
      "needs_background": "light"
     },
     "output_type": "display_data"
    }
   ],
   "source": [
    "# Reset index to create a new column with original index values\n",
    "res['original_index'] = res.index\n",
    "res0 = res.sort_values(by='original_index')\n",
    "ic_ma = res0['ic'].rolling(window=100).mean()\n",
    "plt.plot(range(len(ic_ma)), np.abs(ic_ma), label='Line')\n",
    "plt.xlabel('Trajectory index (ordered by time)')\n",
    "plt.ylabel('Absolute IC')\n",
    "plt.show()"
   ]
  },
  {
   "cell_type": "code",
   "execution_count": 21,
   "metadata": {},
   "outputs": [
    {
     "data": {
      "text/plain": [
       "array([[<AxesSubplot:title={'center':'ic'}>]], dtype=object)"
      ]
     },
     "execution_count": 21,
     "metadata": {},
     "output_type": "execute_result"
    },
    {
     "data": {
      "image/png": "[encoded data removed]",
      "text/plain": [
       "<Figure size 432x288 with 1 Axes>"
      ]
     },
     "metadata": {
      "needs_background": "light"
     },
     "output_type": "display_data"
    }
   ],
   "source": [
    "res.hist('ic', bins=100)"
   ]
  },
  {
   "cell_type": "markdown",
   "metadata": {},
   "source": [
    "## Zooming-in: groups of expressions with high absolute ICs "
   ]
  },
  {
   "cell_type": "markdown",
   "metadata": {},
   "source": [
    "From the following frequency plots, we may observe that: \n",
    " - In all groups, `$volume` is a dominating action that drives high absolute IC.\n",
    " - `ops_multiply` occurs frequently in groups with |IC| > 0.05, compared to 0.04 < |IC| <= 0.05.\n",
    " - `ops_roll_std` occurs frequently in all groups.\n",
    " - `ops_log` and `ops_divide` occurs rarely, probably because it renders missingness with large chance.\n",
    " - `ops_subtract` ranks high in frequency for group with positive ICs, which makes sense because it flips the sign of `$volume`.\n",
    " - None of the groups used `ops_roll_corr`."
   ]
  },
  {
   "cell_type": "code",
   "execution_count": 22,
   "metadata": {},
   "outputs": [],
   "source": [
    "## Negative IC\n",
    "# IC < -0.05\n",
    "expr_g1 = [sampled_expressions[i] for i, ic in enumerate(sampled_ics) if ic < -0.05]\n",
    "act_g1  = [a for expr in expr_g1 for a in expr]\n",
    "# -0.05 <= IC< -0.04\n",
    "expr_g2 = [sampled_expressions[i] for i, ic in enumerate(sampled_ics) if ic >= -0.05 and ic < -0.04 for a in sampled_expressions[i]]\n",
    "act_g2  = [a for expr in expr_g2 for a in expr]\n",
    "\n",
    "## Positive IC\n",
    "# IC >= 0.05\n",
    "expr_g3 = [sampled_expressions[i] for i, ic in enumerate(sampled_ics) if ic >= 0.05 for a in sampled_expressions[i]]\n",
    "act_g3  = [a for expr in expr_g3 for a in expr]\n",
    "# 0.04 <= IC< 0.05\n",
    "expr_g4 = [sampled_expressions[i] for i, ic in enumerate(sampled_ics) if ic >= 0.04 and ic < 0.05 for a in sampled_expressions[i]]\n",
    "act_g4  = [a for expr in expr_g4 for a in expr]"
   ]
  },
  {
   "cell_type": "code",
   "execution_count": 23,
   "metadata": {},
   "outputs": [],
   "source": [
    "from collections import Counter\n",
    "count_g1 = Counter(act_g1).most_common()\n",
    "count_g2 = Counter(act_g2).most_common()\n",
    "count_g3 = Counter(act_g3).most_common()\n",
    "count_g4 = Counter(act_g4).most_common()"
   ]
  },
  {
   "cell_type": "code",
   "execution_count": 24,
   "metadata": {},
   "outputs": [
    {
     "ename": "ValueError",
     "evalue": "not enough values to unpack (expected 2, got 0)",
     "output_type": "error",
     "traceback": [
      "\u001b[0;31m---------------------------------------------------------------------------\u001b[0m",
      "\u001b[0;31mValueError\u001b[0m                                Traceback (most recent call last)",
      "Input \u001b[0;32mIn [24]\u001b[0m, in \u001b[0;36m<cell line: 1>\u001b[0;34m()\u001b[0m\n\u001b[0;32m----> 1\u001b[0m labels, counts \u001b[38;5;241m=\u001b[39m \u001b[38;5;28mzip\u001b[39m(\u001b[38;5;241m*\u001b[39mcount_g1)\n\u001b[1;32m      2\u001b[0m plt\u001b[38;5;241m.\u001b[39mbar(labels, counts); plt\u001b[38;5;241m.\u001b[39mxticks(rotation\u001b[38;5;241m=\u001b[39m\u001b[38;5;241m90\u001b[39m)\n\u001b[1;32m      3\u001b[0m plt\u001b[38;5;241m.\u001b[39mtitle(\u001b[38;5;124m'\u001b[39m\u001b[38;5;124mFrequency of actions in expresson with IC < -0.05\u001b[39m\u001b[38;5;124m'\u001b[39m)\n",
      "\u001b[0;31mValueError\u001b[0m: not enough values to unpack (expected 2, got 0)"
     ]
    }
   ],
   "source": [
    "labels, counts = zip(*count_g1)\n",
    "plt.bar(labels, counts); plt.xticks(rotation=90)\n",
    "plt.title('Frequency of actions in expresson with IC < -0.05')\n",
    "plt.show()"
   ]
  },
  {
   "cell_type": "code",
   "execution_count": 25,
   "metadata": {},
   "outputs": [
    {
     "ename": "ValueError",
     "evalue": "not enough values to unpack (expected 2, got 0)",
     "output_type": "error",
     "traceback": [
      "\u001b[0;31m---------------------------------------------------------------------------\u001b[0m",
      "\u001b[0;31mValueError\u001b[0m                                Traceback (most recent call last)",
      "Input \u001b[0;32mIn [25]\u001b[0m, in \u001b[0;36m<cell line: 1>\u001b[0;34m()\u001b[0m\n\u001b[0;32m----> 1\u001b[0m labels, counts \u001b[38;5;241m=\u001b[39m \u001b[38;5;28mzip\u001b[39m(\u001b[38;5;241m*\u001b[39mcount_g2)\n\u001b[1;32m      2\u001b[0m plt\u001b[38;5;241m.\u001b[39mtitle(\u001b[38;5;124m'\u001b[39m\u001b[38;5;124mFrequency of actions in expresson with -0.05 <= IC< -0.04\u001b[39m\u001b[38;5;124m'\u001b[39m)\n\u001b[1;32m      3\u001b[0m plt\u001b[38;5;241m.\u001b[39mbar(labels, counts); plt\u001b[38;5;241m.\u001b[39mxticks(rotation\u001b[38;5;241m=\u001b[39m\u001b[38;5;241m90\u001b[39m); plt\u001b[38;5;241m.\u001b[39mshow()\n",
      "\u001b[0;31mValueError\u001b[0m: not enough values to unpack (expected 2, got 0)"
     ]
    }
   ],
   "source": [
    "labels, counts = zip(*count_g2)\n",
    "plt.title('Frequency of actions in expresson with -0.05 <= IC< -0.04')\n",
    "plt.bar(labels, counts); plt.xticks(rotation=90); plt.show()"
   ]
  },
  {
   "cell_type": "code",
   "execution_count": 26,
   "metadata": {},
   "outputs": [
    {
     "ename": "ValueError",
     "evalue": "not enough values to unpack (expected 2, got 0)",
     "output_type": "error",
     "traceback": [
      "\u001b[0;31m---------------------------------------------------------------------------\u001b[0m",
      "\u001b[0;31mValueError\u001b[0m                                Traceback (most recent call last)",
      "Input \u001b[0;32mIn [26]\u001b[0m, in \u001b[0;36m<cell line: 1>\u001b[0;34m()\u001b[0m\n\u001b[0;32m----> 1\u001b[0m labels, counts \u001b[38;5;241m=\u001b[39m \u001b[38;5;28mzip\u001b[39m(\u001b[38;5;241m*\u001b[39mcount_g3)\n\u001b[1;32m      2\u001b[0m plt\u001b[38;5;241m.\u001b[39mtitle(\u001b[38;5;124m'\u001b[39m\u001b[38;5;124mFrequency of actions in expresson with IC >= 0.05\u001b[39m\u001b[38;5;124m'\u001b[39m)\n\u001b[1;32m      3\u001b[0m plt\u001b[38;5;241m.\u001b[39mbar(labels, counts); plt\u001b[38;5;241m.\u001b[39mxticks(rotation\u001b[38;5;241m=\u001b[39m\u001b[38;5;241m90\u001b[39m); plt\u001b[38;5;241m.\u001b[39mshow()\n",
      "\u001b[0;31mValueError\u001b[0m: not enough values to unpack (expected 2, got 0)"
     ]
    }
   ],
   "source": [
    "labels, counts = zip(*count_g3)\n",
    "plt.title('Frequency of actions in expresson with IC >= 0.05')\n",
    "plt.bar(labels, counts); plt.xticks(rotation=90); plt.show()"
   ]
  },
  {
   "cell_type": "code",
   "execution_count": 27,
   "metadata": {},
   "outputs": [
    {
     "ename": "ValueError",
     "evalue": "not enough values to unpack (expected 2, got 0)",
     "output_type": "error",
     "traceback": [
      "\u001b[0;31m---------------------------------------------------------------------------\u001b[0m",
      "\u001b[0;31mValueError\u001b[0m                                Traceback (most recent call last)",
      "Input \u001b[0;32mIn [27]\u001b[0m, in \u001b[0;36m<cell line: 1>\u001b[0;34m()\u001b[0m\n\u001b[0;32m----> 1\u001b[0m labels, counts \u001b[38;5;241m=\u001b[39m \u001b[38;5;28mzip\u001b[39m(\u001b[38;5;241m*\u001b[39mcount_g4)\n\u001b[1;32m      2\u001b[0m plt\u001b[38;5;241m.\u001b[39mtitle(\u001b[38;5;124m'\u001b[39m\u001b[38;5;124mFrequency of actions in expresson with 0.04 <= IC< 0.05\u001b[39m\u001b[38;5;124m'\u001b[39m)\n\u001b[1;32m      3\u001b[0m plt\u001b[38;5;241m.\u001b[39mbar(labels, counts); plt\u001b[38;5;241m.\u001b[39mxticks(rotation\u001b[38;5;241m=\u001b[39m\u001b[38;5;241m90\u001b[39m); plt\u001b[38;5;241m.\u001b[39mshow()\n",
      "\u001b[0;31mValueError\u001b[0m: not enough values to unpack (expected 2, got 0)"
     ]
    }
   ],
   "source": [
    "labels, counts = zip(*count_g4)\n",
    "plt.title('Frequency of actions in expresson with 0.04 <= IC< 0.05')\n",
    "plt.bar(labels, counts); plt.xticks(rotation=90); plt.show()"
   ]
  },
  {
   "cell_type": "markdown",
   "metadata": {},
   "source": [
    "## Zooming-in: Groups of expressions with low absolute ICs "
   ]
  },
  {
   "cell_type": "markdown",
   "metadata": {},
   "source": [
    "From the frequency plots, we may observe that: \n",
    " - No distinctive dominating actions.\n",
    " - The rank seems to be at random based on multiple times of running the optimization."
   ]
  },
  {
   "cell_type": "code",
   "execution_count": null,
   "metadata": {},
   "outputs": [],
   "source": [
    "# |IC| < 0.01\n",
    "expr_g5 = [sampled_expressions[i] for i, ic in enumerate(sampled_ics) if np.abs(ic) < 0.01]\n",
    "act_g5  = [a for expr in expr_g5 for a in expr]"
   ]
  },
  {
   "cell_type": "code",
   "execution_count": null,
   "metadata": {},
   "outputs": [],
   "source": [
    "count_g5 = Counter(act_g5).most_common()\n",
    "labels, counts = zip(*count_g5)\n",
    "plt.bar(labels, counts); plt.xticks(rotation=90)\n",
    "plt.title('Frequency of actions in expresson with |IC| < 0.01')\n",
    "plt.show()"
   ]
  }
 ],
 "metadata": {
  "kernelspec": {
   "display_name": "assignment_venv",
   "language": "python",
   "name": "assignment_venv"
  },
  "language_info": {
   "codemirror_mode": {
    "name": "ipython",
    "version": 3
   },
   "file_extension": ".py",
   "mimetype": "text/x-python",
   "name": "python",
   "nbconvert_exporter": "python",
   "pygments_lexer": "ipython3",
   "version": "3.9.12"
  }
 },
 "nbformat": 4,
 "nbformat_minor": 2
}
